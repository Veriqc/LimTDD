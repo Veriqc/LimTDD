{
 "cells": [
  {
   "cell_type": "code",
   "execution_count": 15,
   "metadata": {},
   "outputs": [],
   "source": [
    "import re\n",
    "from tqdm import tqdm\n",
    "import subprocess\n",
    "import matplotlib.pyplot as plt\n",
    "import numpy as np"
   ]
  },
  {
   "cell_type": "code",
   "execution_count": 16,
   "metadata": {},
   "outputs": [
    {
     "name": "stdout",
     "output_type": "stream",
     "text": [
      "['hwb10ps.qasm', 'hwb12_55998_198928.qasm', 'hwb9-1541.qasm', 'hwb4tc.qasm', 'gf2^12mult_177_753.qasm', 'hwb11-8214.qasm', 'gf2^127mult_16255_80771.qasm', 'gf2^10mult_109_509.qasm', 'mod5adders.qasm', 'nth_prime4_inc_15_51.qasm', 'hwb09-n9-gc4014-qc12293.qasm', 'hwb14ps.qasm', 'ham7-25-49.qasm', 'rd53-16-67.qasm', 'hwb07-n7-gc612-qc1737.qasm', 'nth_prime10_inc-n11-gc5207-qc50152.qasm', 'gf2^3mult_11_47.qasm', 'hwb6ps.qasm', 'hwb12-n12-gc42113-qc134334.qasm', 'ham15-70.qasm', 'hwb5-33-71.qasm', 'gf2^17mult_305_1461.qasm', 'hwb4_fc.qasm', 'hwb7-331-2609a.qasm', 'hwb11_32261_90745.qasm', 'mspk_nth_primes4_12.qasm', 'gf2^15mult_239_1139.qasm', 'hwb10-3631.qasm', 'nth_prime8_inc_3346_7618.qasm', 'hwb5-24-102.qasm', 'mspk_4_49_12.qasm', 'rd53d1-n7-gc12-qc95.qasm', 'gf2^18mult_375_1671.qasm', 'gf2^50_2647_12647.qasm', 'permanent3x3p3.qasm', 'rd53d2.qasm', 'hwb11-n11-gc21447-qc69153.qasm', 'hwb08-n8-gc1604-qc4862.qasm', 'mod5adder-15.qasm', 'gf2^7mult_55_251.qasm', 'ham15-109-214.qasm', 'hwb100ps.qasm', '4_49-12-32.qasm', 'hwb7_fc.qasm', 'hwb7ps.qasm', 'hwb200ps.qasm', 'rd53d1-n7-gc12-qc82.qasm', 'gf2^8mult_85_341.qasm', 'rd84d1-n11-gc2560-qc12397.qasm', 'hwb5tc.qasm', 'hwb11-11600-122144a.qasm', 'hwb500ps.qasm', 'rd32.qasm', 'ham7tc.qasm', 'hwb10-3595-117460a.qasm', 'symmetric_9-n10-gc347-qc1975.qasm', 'nth_prime08_inc-n8-gc1692-qc6339.qasm', 'gf2^131mult-17811-86455.qasm', 'mod5d1.qasm', 'hwb11-9314.qasm', 'permanent3x3-gc30-qc1872.qasm', 'hwb4-11-23.qasm', '4b15g_4.qasm', 'hwb5_31_91.qasm', 'ham7-21-69.qasm', 'hwb5ps.qasm', '9symd2.qasm', 'mspk_4b15g_3.qasm', 'gf2^32mult_1117_5213.qasm', '5mod5tc.qasm', 'mspk_hwb4_12.qasm', 'cycle10_2.qasm', 'hwb4-11-21.qasm', 'rd84d1.qasm', '5mod5-8.qasm', 'hwb6_fc.qasm', 'hwb50ps.qasm', 'mod_4mod5-n5-gc4-qc13.qasm', 'nth_prime4_inc_d1.qasm', 'hwb6tc.qasm', 'nth_prime07_inc-n7-gc440-qc10989.qasm', 'nth_prime11_inc-n12-gc11765-qc124408.qasm', 'mod5adder-17-69.qasm', 'gf2^11mult_131_615.qasm', 'gf2^128mult_16765_82301.qasm', 'mod_5mod5-n6-gc7-qc429.qasm', 'hwb6_47_107.qasm', 'gf2^9mult_89_413.qasm', 'ham3_fc.qasm', 'gf2^4mult_19_83.qasm', '6symd2.qasm', 'mod1024adder.qasm', 'rd53d1mils.qasm', 'nth_prime10_inc_16626_40299.qasm', 'gf2^13mult_205_881.qasm', 'nth_prime08_inc-n8-gc986-qc10227.qasm', 'mspk_4b15g_2.qasm', 'mod5mils.qasm', 'hwb5_fc.qasm', 'mspk_4b15g_1.qasm', 'nth_prime9_inc_7522_17975.qasm', 'gf2^14mult_235_1019.qasm', 'gf2^16mult_301_1325.qasm', '4b15g_5.qasm', 'ham3tc.qasm', 'mspk_4_49_13.qasm', 'mod5adder-17-81.qasm', 'hwb10-n10-gc8262-qc26099.qasm', 'gf2^6mult_41_185.qasm', 'nth_prime3_inc.qasm', 'rd84d1-n11-gc679-qc359384.qasm', '5bitadder.qasm', '2of5d4-n7-gc12-qc31.qasm', '2of5d7-n6-gc9-qc268.qasm', 'hwb6-42-150.qasm', 'hwb8-614-12745a.qasm', 'hwb9_6563_16173.qasm', '4_49_fc.qasm', 'nth_prime11_inc_35335_95431.qasm', '4b15g_1.qasm', 'gf2^20mult_419_2019.qasm', 'nth_prime07_inc-n7-gc489-qc10898.qasm', 'hwb5-24-114.qasm', 'hwb12ps.qasm', 'mspk_nth_prime5_inc_29_91_opt_36_80.qasm', 'mspk_4b15g_4.qasm', 'permanent2x2-gc3-qc39.qasm', 'mod5d2.qasm', 'rd53d15.qasm', 'hwb20ps.qasm', 'mspk_4b15g_5.qasm', 'hwb16ps.qasm', '2of5d3.qasm', 'hwb9-1959-20378a.qasm', 'symmetric_9-n10-gc74-qc31819.qasm', '2of5d1.qasm', '2of5d5-n7-gc11-qc32.qasm', '4_49tc1.qasm', 'mod5d4.qasm', 'nth_prime7_inc_1427_3172.qasm', 'mspk_hwb5_31_91_opt_38_80.qasm', 'hwb8-749-6197a.qasm', 'rd73d2-n9-gc835-qc4069.qasm', 'nth_prime6_inc_55_667.qasm', 'hwb8-637.qasm', 'ham15tc1.qasm', 'nth_prime07_inc-n7-gc839-qc2284.qasm', 'mspk_hwb4_13.qasm', 'hwb7-236.qasm', '2of5d6-n6-gc10-qc118.qasm', 'nth_prime5_inc_25_103.qasm', '2of5d2.qasm', 'nth_prime5_inc_29_91.qasm', 'hwb8ps.qasm', 'hwb9ps.qasm', 'hwb15ps.qasm', '4b15g_3.qasm', 'nth_prime12_inc_75933_208227.qasm', 'gf2^64mult_4285_20669.qasm', 'symmetric_6-n7-gc41-qc206.qasm', 'gf2^5mult_29_129.qasm', 'mspk_nth_primes4_13.qasm', 'mspk_nth_primes4_11.qasm', 'rd73d2-n9-gc296-qc43421.qasm', 'nth_prime5_inc-28-96.qasm', 'nth_prime4_inc_d2.qasm', 'gf2^163mutl-27055-133331.qasm', '5mod5_fc.qasm', 'hwb9-1544.qasm', 'symmetric_6-n7-gc14-qc1308.qasm', 'gf2^100_10297_50297.qasm', 'nth_prime6_inc-57-485.qasm', '5mod5-10-71a.qasm', 'nth_prime09_inc-n10-gc2234-qc22181.qasm', 'hwb11ps.qasm', 'hwb10_12288_35618.qasm', 'rd73d2.qasm', '3_17tc.qasm', 'hwb13ps.qasm', 'symmetric_6-n7-gc15-qc825.qasm', 'mspk_nth_primes4_14.qasm', 'hwb7tc.qasm', 'gf2^32mult_1179_5275.qasm', 'gf2^19mult_415_1859.qasm', 'rd53d1-n7-gc11-qc96.qasm', '4b15g_2.qasm', 'rd53d1.qasm', 'symmetric_9-n10-gc73-qc61928.qasm', 'rd53rcmg.qasm', 'nth_prime09_inc-n10-gc3956-qc19464.qasm', 'hwb1000ps.qasm', 'hwb10-4540-46597a.qasm', 'mspk_4_49_14.qasm', 'hwb8_2710_6940.qasm']\n"
     ]
    }
   ],
   "source": [
    "import os\n",
    "\n",
    "def list_files_in_directory(directory_path):\n",
    "    # Check if the given directory exists\n",
    "    if not os.path.isdir(directory_path):\n",
    "        return \"The specified directory does not exist.\"\n",
    "\n",
    "    # List all entries in the directory\n",
    "    files = [f for f in os.listdir(directory_path) if os.path.isfile(os.path.join(directory_path, f))]\n",
    "    return files\n",
    "\n",
    "directory_path = \"Benchmarks/combinational/rev_circuit\"\n",
    "files = list_files_in_directory(directory_path)\n",
    "print(files)\n"
   ]
  },
  {
   "cell_type": "code",
   "execution_count": 17,
   "metadata": {},
   "outputs": [],
   "source": [
    "def read(file_path):\n",
    "    # Regular expression patterns to match the lines of interest\n",
    "    time_pattern = re.compile(r\"time: ([\\d\\.]+)s\")\n",
    "    max_node_pattern = re.compile(r\"MAX node: (\\d+)\")\n",
    "    final_node_pattern = re.compile(r\"final node: (\\d+)\")\n",
    "\n",
    "    # Initialize lists to store the extracted information\n",
    "    times = []\n",
    "    max_nodes = []\n",
    "    final_nodes = []\n",
    "\n",
    "    # Read the file and extract information\n",
    "    with open(file_path, 'r') as file:\n",
    "        for line in file:\n",
    "            # Check for time and add it to the times list\n",
    "            time_match = time_pattern.search(line)\n",
    "            if time_match:\n",
    "                times.append(float(time_match.group(1)))\n",
    "            \n",
    "            # Check for MAX node and add it to the max_nodes list\n",
    "            max_node_match = max_node_pattern.search(line)\n",
    "            if max_node_match:\n",
    "                max_nodes.append(int(max_node_match.group(1)))\n",
    "            \n",
    "            # Check for final node and add it to the final_nodes list\n",
    "            final_node_match = final_node_pattern.search(line)\n",
    "            if final_node_match:\n",
    "                final_nodes.append(int(final_node_match.group(1)))\n",
    "    return [times,max_nodes,final_nodes]\n"
   ]
  },
  {
   "cell_type": "code",
   "execution_count": 18,
   "metadata": {},
   "outputs": [],
   "source": [
    "code = \"LimTDD\"\n",
    "exper = \"grover\"\n",
    "simulate = True\n",
    "log_file_path = f\"{code}_{exper}.txt\"\n",
    "error_log_path = f\"{code}_{exper}_error.txt\""
   ]
  },
  {
   "cell_type": "code",
   "execution_count": 19,
   "metadata": {},
   "outputs": [],
   "source": [
    "BenchmarkFolder = {\"clifford\":\"Benchmarks/clifford/\",\n",
    "                   \"clifford_cs\":\"Benchmarks/clifford_cs/\",\n",
    "                   \"clifford_t\":\"Benchmarks/clifford_t/\",\n",
    "                   \"bv\":\"Benchmarks/combinational/bv/\",\n",
    "                   \"grover\":\"Benchmarks/combinational/grover/\",\n",
    "                   \"pe\":\"Benchmarks/combinational/pe/\",\n",
    "                   \"qft\":\"Benchmarks/qft/\",\n",
    "                   \"qv\":\"Benchmarks/combinational/qv/\",\n",
    "                   \"rev_circuit\":\"Benchmarks/rev_circuit/\",\n",
    "                   \"vqe\":\"Benchmarks/vqe/\",\n",
    "                   }\n",
    "BenchmarkFile = {\"clifford\":[f\"{i}time.qasm\" for i in range(1,1001)],\n",
    "                 \"clifford_cs\":[f\"{i}time.qasm\" for i in range(1,1001)],\n",
    "                 \"clifford_t\":[f\"{i}time.qasm\" for i in range(1,1001)],\n",
    "                 \"bv\":[f\"bv_{i}.qasm\" for i in [30,50,100,200]],\n",
    "                 \"grover\":[f\"grover_{i}.qasm\" for i in [9,19,29]],\n",
    "                 \"pe\":[f\"pe_{i}.qasm\" for i in [10,20,30]],\n",
    "                 \"qft\":[f\"qft_{i}.qasm\" for i in range(2,16)],\n",
    "                 \"qv\": ['quantum_volume_n5_d5_i0.qasm', 'quantum_volume_n10_d5_i0.qasm', 'quantum_volume_n15_d5_i0.qasm',],\n",
    "                 \"rev_circuit\":[f\"rev_{i}.qasm\" for i in range (1,3)],\n",
    "            \n",
    "                 \"vqe\":[f\"vqe_{i}.qasm\" for i in range(5,11)],\n",
    "                }"
   ]
  },
  {
   "cell_type": "code",
   "execution_count": 20,
   "metadata": {},
   "outputs": [],
   "source": [
    "test_cases = [\"rev_circuit\"]"
   ]
  },
  {
   "cell_type": "code",
   "execution_count": 21,
   "metadata": {},
   "outputs": [
    {
     "name": "stderr",
     "output_type": "stream",
     "text": [
      "Executing test about rev_circuit using LimTDD:   0%|          | 0/2 [00:00<?, ?it/s]"
     ]
    },
    {
     "name": "stderr",
     "output_type": "stream",
     "text": [
      "Executing test about rev_circuit using LimTDD: 100%|██████████| 2/2 [00:00<00:00, 13.13it/s]"
     ]
    },
    {
     "name": "stdout",
     "output_type": "stream",
     "text": [
      "All executions completed. Check LimTDD_rev_circuit.txt for details.\n"
     ]
    },
    {
     "name": "stderr",
     "output_type": "stream",
     "text": [
      "\n"
     ]
    }
   ],
   "source": [
    "for exper in test_cases:\n",
    "    log_file_path = f\"{code}_{exper}.txt\"\n",
    "    error_log_path = f\"{code}_{exper}_error.txt\"\n",
    "    # Ensure the log file is empty at the start\n",
    "    open(log_file_path, 'w').close()\n",
    "    open(error_log_path, 'w').close()\n",
    "\n",
    "    n = len(BenchmarkFile[exper])\n",
    "    # Loop to run the command for each index, wrapped with tqdm for progress bar\n",
    "    for i in tqdm(range(n), desc=f'Executing test about {exper} using {code}'):\n",
    "        # Execute the C++ program and append its output to the log file\n",
    "        if simulate:\n",
    "            result = subprocess.run([\"./build/test/test_data\",BenchmarkFolder[exper]+BenchmarkFile[exper][i]], capture_output=True, text=True)\n",
    "        else:\n",
    "            result = subprocess.run([\"./build/test/test_data\",BenchmarkFolder[exper]+BenchmarkFile[exper][i], 1], capture_output=True, text=True)\n",
    "        # Append the output to the log file\n",
    "        with open(log_file_path, \"a\") as log_file:\n",
    "            log_file.write(result.stdout)\n",
    "        \n",
    "        # Check if the command was successful\n",
    "        if result.returncode != 0:\n",
    "            with open(error_log_path, \"a\") as error_log:\n",
    "                error_log.write(f\"Program failed with argument {i}: {result.stderr}\\n\")\n",
    "\n",
    "    print(\"All executions completed. Check\", log_file_path, \"for details.\")"
   ]
  },
  {
   "cell_type": "code",
   "execution_count": 15,
   "metadata": {},
   "outputs": [
    {
     "name": "stdout",
     "output_type": "stream",
     "text": [
      "cp: cannot create regular file '../data/vqe/LimTDD.txt': No such file or directory\n"
     ]
    }
   ],
   "source": [
    "for exper in test_cases:\n",
    "    log_file_path = f\"{code}_{exper}.txt\"\n",
    "    !cp {log_file_path} ../data/{exper}/{code}.txt"
   ]
  },
  {
   "cell_type": "code",
   "execution_count": 32,
   "metadata": {},
   "outputs": [
    {
     "ename": "ValueError",
     "evalue": "attempt to get argmax of an empty sequence",
     "output_type": "error",
     "traceback": [
      "\u001b[0;31m---------------------------------------------------------------------------\u001b[0m",
      "\u001b[0;31mValueError\u001b[0m                                Traceback (most recent call last)",
      "Cell \u001b[0;32mIn[32], line 11\u001b[0m\n\u001b[1;32m      8\u001b[0m avg_memory \u001b[38;5;241m=\u001b[39m np\u001b[38;5;241m.\u001b[39mmean(memory_usage)\n\u001b[1;32m     10\u001b[0m \u001b[38;5;66;03m# Find indices of max and min execution times\u001b[39;00m\n\u001b[0;32m---> 11\u001b[0m max_time_idx \u001b[38;5;241m=\u001b[39m \u001b[43mnp\u001b[49m\u001b[38;5;241;43m.\u001b[39;49m\u001b[43margmax\u001b[49m\u001b[43m(\u001b[49m\u001b[43mtimes\u001b[49m\u001b[43m)\u001b[49m\n\u001b[1;32m     12\u001b[0m min_time_idx \u001b[38;5;241m=\u001b[39m np\u001b[38;5;241m.\u001b[39margmin(times)\n\u001b[1;32m     14\u001b[0m \u001b[38;5;66;03m# Create scatter plot\u001b[39;00m\n",
      "File \u001b[0;32m~/.local/lib/python3.10/site-packages/numpy/core/fromnumeric.py:1229\u001b[0m, in \u001b[0;36margmax\u001b[0;34m(a, axis, out, keepdims)\u001b[0m\n\u001b[1;32m   1142\u001b[0m \u001b[38;5;250m\u001b[39m\u001b[38;5;124;03m\"\"\"\u001b[39;00m\n\u001b[1;32m   1143\u001b[0m \u001b[38;5;124;03mReturns the indices of the maximum values along an axis.\u001b[39;00m\n\u001b[1;32m   1144\u001b[0m \n\u001b[0;32m   (...)\u001b[0m\n\u001b[1;32m   1226\u001b[0m \u001b[38;5;124;03m(2, 1, 4)\u001b[39;00m\n\u001b[1;32m   1227\u001b[0m \u001b[38;5;124;03m\"\"\"\u001b[39;00m\n\u001b[1;32m   1228\u001b[0m kwds \u001b[38;5;241m=\u001b[39m {\u001b[38;5;124m'\u001b[39m\u001b[38;5;124mkeepdims\u001b[39m\u001b[38;5;124m'\u001b[39m: keepdims} \u001b[38;5;28;01mif\u001b[39;00m keepdims \u001b[38;5;129;01mis\u001b[39;00m \u001b[38;5;129;01mnot\u001b[39;00m np\u001b[38;5;241m.\u001b[39m_NoValue \u001b[38;5;28;01melse\u001b[39;00m {}\n\u001b[0;32m-> 1229\u001b[0m \u001b[38;5;28;01mreturn\u001b[39;00m \u001b[43m_wrapfunc\u001b[49m\u001b[43m(\u001b[49m\u001b[43ma\u001b[49m\u001b[43m,\u001b[49m\u001b[43m \u001b[49m\u001b[38;5;124;43m'\u001b[39;49m\u001b[38;5;124;43margmax\u001b[39;49m\u001b[38;5;124;43m'\u001b[39;49m\u001b[43m,\u001b[49m\u001b[43m \u001b[49m\u001b[43maxis\u001b[49m\u001b[38;5;241;43m=\u001b[39;49m\u001b[43maxis\u001b[49m\u001b[43m,\u001b[49m\u001b[43m \u001b[49m\u001b[43mout\u001b[49m\u001b[38;5;241;43m=\u001b[39;49m\u001b[43mout\u001b[49m\u001b[43m,\u001b[49m\u001b[43m \u001b[49m\u001b[38;5;241;43m*\u001b[39;49m\u001b[38;5;241;43m*\u001b[39;49m\u001b[43mkwds\u001b[49m\u001b[43m)\u001b[49m\n",
      "File \u001b[0;32m~/.local/lib/python3.10/site-packages/numpy/core/fromnumeric.py:59\u001b[0m, in \u001b[0;36m_wrapfunc\u001b[0;34m(obj, method, *args, **kwds)\u001b[0m\n\u001b[1;32m     56\u001b[0m     \u001b[38;5;28;01mreturn\u001b[39;00m _wrapit(obj, method, \u001b[38;5;241m*\u001b[39margs, \u001b[38;5;241m*\u001b[39m\u001b[38;5;241m*\u001b[39mkwds)\n\u001b[1;32m     58\u001b[0m \u001b[38;5;28;01mtry\u001b[39;00m:\n\u001b[0;32m---> 59\u001b[0m     \u001b[38;5;28;01mreturn\u001b[39;00m \u001b[43mbound\u001b[49m\u001b[43m(\u001b[49m\u001b[38;5;241;43m*\u001b[39;49m\u001b[43margs\u001b[49m\u001b[43m,\u001b[49m\u001b[43m \u001b[49m\u001b[38;5;241;43m*\u001b[39;49m\u001b[38;5;241;43m*\u001b[39;49m\u001b[43mkwds\u001b[49m\u001b[43m)\u001b[49m\n\u001b[1;32m     60\u001b[0m \u001b[38;5;28;01mexcept\u001b[39;00m \u001b[38;5;167;01mTypeError\u001b[39;00m:\n\u001b[1;32m     61\u001b[0m     \u001b[38;5;66;03m# A TypeError occurs if the object does have such a method in its\u001b[39;00m\n\u001b[1;32m     62\u001b[0m     \u001b[38;5;66;03m# class, but its signature is not identical to that of NumPy's. This\u001b[39;00m\n\u001b[0;32m   (...)\u001b[0m\n\u001b[1;32m     66\u001b[0m     \u001b[38;5;66;03m# Call _wrapit from within the except clause to ensure a potential\u001b[39;00m\n\u001b[1;32m     67\u001b[0m     \u001b[38;5;66;03m# exception has a traceback chain.\u001b[39;00m\n\u001b[1;32m     68\u001b[0m     \u001b[38;5;28;01mreturn\u001b[39;00m _wrapit(obj, method, \u001b[38;5;241m*\u001b[39margs, \u001b[38;5;241m*\u001b[39m\u001b[38;5;241m*\u001b[39mkwds)\n",
      "\u001b[0;31mValueError\u001b[0m: attempt to get argmax of an empty sequence"
     ]
    }
   ],
   "source": [
    "[times,maxNodes,_]=read(log_file_path)\n",
    "# Example data\n",
    "times = np.array(times)\n",
    "memory_usage = np.array(maxNodes)  \n",
    "\n",
    "# Calculate averages\n",
    "avg_time = np.mean(times)\n",
    "avg_memory = np.mean(memory_usage)\n",
    "\n",
    "# Find indices of max and min execution times\n",
    "max_time_idx = np.argmax(times)\n",
    "min_time_idx = np.argmin(times)\n",
    "\n",
    "# Create scatter plot\n",
    "plt.scatter(times, memory_usage)\n",
    "\n",
    "# Highlight max and min points\n",
    "plt.scatter(times[max_time_idx], memory_usage[max_time_idx], color='red', label='Max Time', zorder=5)\n",
    "plt.scatter(times[min_time_idx], memory_usage[min_time_idx], color='green', label='Min Time', zorder=5)\n",
    "\n",
    "# Add average lines\n",
    "plt.axhline(y=avg_memory, color='r', linestyle='--', label='Average MAX Node')\n",
    "plt.axvline(x=avg_time, color='g', linestyle='--', label='Average Execution Time')\n",
    "\n",
    "# Add annotations for max and min points\n",
    "plt.annotate('Max Time', (times[max_time_idx], memory_usage[max_time_idx]), textcoords=\"offset points\", xytext=(0,10), ha='center')\n",
    "plt.annotate('Min Time', (times[min_time_idx], memory_usage[min_time_idx]), textcoords=\"offset points\", xytext=(0,-15), ha='center')\n",
    "\n",
    "plt.title(f'{code} Experiment Resource Usage')\n",
    "plt.xlabel('Execution Time (s)')\n",
    "plt.ylabel('MAX Nodes')\n",
    "plt.legend()\n",
    "plt.show()"
   ]
  }
 ],
 "metadata": {
  "kernelspec": {
   "display_name": "Python 3",
   "language": "python",
   "name": "python3"
  },
  "language_info": {
   "codemirror_mode": {
    "name": "ipython",
    "version": 3
   },
   "file_extension": ".py",
   "mimetype": "text/x-python",
   "name": "python",
   "nbconvert_exporter": "python",
   "pygments_lexer": "ipython3",
   "version": "3.10.12"
  }
 },
 "nbformat": 4,
 "nbformat_minor": 2
}
