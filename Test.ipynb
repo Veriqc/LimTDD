{
 "cells": [
  {
   "cell_type": "code",
   "execution_count": 9,
   "metadata": {},
   "outputs": [],
   "source": [
    "import numpy as np\n",
    "from TDD.TDD import Ini_TDD,Clear_TDD,set_index_order,get_unique_table_num,set_root_of_unit,get_count\n",
    "from TDD.TDD_Q import cir_2_tn,get_real_qubit_num,add_trace_line,add_inputs,add_outputs,gen_cir\n",
    "from TDD.TN import Index,Tensor,TensorNetwork\n",
    "import time\n",
    "import random\n",
    "from qiskit import QuantumCircuit\n",
    "import cProfile"
   ]
  },
  {
   "cell_type": "code",
   "execution_count": 10,
   "metadata": {},
   "outputs": [
    {
     "data": {
      "image/png": "[encoded data removed]",
      "text/plain": [
       "<IPython.core.display.Image object>"
      ]
     },
     "execution_count": 10,
     "metadata": {},
     "output_type": "execute_result"
    }
   ],
   "source": [
    "Ini_TDD(['x0','y0','z0','x1','y1','z1','x2','y2','z2'])\n",
    "H=1/np.sqrt(2)*np.array([[1,1],[1,-1]])\n",
    "I=np.array([[1,0],[0,1]])\n",
    "X=np.array([[0,1],[1,0]])\n",
    "T=np.array([[1,0],[0,np.exp(1j*np.pi/4)]])\n",
    "var=[Index('x0'),Index('y0')]\n",
    "ts1=Tensor(T,var)\n",
    "# ts1.tdd().show()\n",
    "var2=[Index('y0'),Index('z0')]\n",
    "ts2=Tensor(X,var2)\n",
    "tn=TensorNetwork([ts1,ts2])\n",
    "tdd=tn.cont()\n",
    "tdd.show()"
   ]
  },
  {
   "cell_type": "code",
   "execution_count": 11,
   "metadata": {
    "scrolled": true
   },
   "outputs": [
    {
     "name": "stdout",
     "output_type": "stream",
     "text": [
      "0.21098780632019043\n",
      "(0.0009765624999999985+0j)\n",
      "41\n"
     ]
    }
   ],
   "source": [
    "path='Benchmarks/'\n",
    "file_name=\"qft_20.qasm\"\n",
    "cir = QuantumCircuit.from_qasm_file(path+file_name)\n",
    "tn,all_indexs = cir_2_tn(cir)\n",
    "\n",
    "Ini_TDD(index_order=all_indexs)\n",
    "set_root_of_unit(2**30)\n",
    "t_start=time.time()\n",
    "tdd=tn.cont()\n",
    "print(time.time()-t_start)\n",
    "print(tdd.weight)\n",
    "print(tdd.node_number())\n",
    "# tdd.show()"
   ]
  },
  {
   "cell_type": "code",
   "execution_count": 12,
   "metadata": {
    "scrolled": true
   },
   "outputs": [
    {
     "name": "stdout",
     "output_type": "stream",
     "text": [
      "1.2250139713287354\n",
      "(0.0009765624999999999-1.0938507817052967e-17j)\n",
      "21\n"
     ]
    }
   ],
   "source": [
    "n=20\n",
    "m=500\n",
    "cir=gen_cir('Random_Clifford',n,m)\n",
    "tn,all_indexs = cir_2_tn(cir)\n",
    "n=get_real_qubit_num(cir)\n",
    "add_inputs(tn,[0]*n,n)\n",
    "Ini_TDD(index_order=all_indexs)\n",
    "t_start=time.time()\n",
    "tdd=tn.cont()\n",
    "print(time.time()-t_start)\n",
    "print(tdd.weight)\n",
    "print(tdd.node_number())\n",
    "# tdd.show()"
   ]
  },
  {
   "cell_type": "code",
   "execution_count": 13,
   "metadata": {},
   "outputs": [],
   "source": [
    "# with open('test20_500.qasm','w') as f:\n",
    "#     f.write(cir.qasm())\n",
    "# cir.draw()"
   ]
  },
  {
   "cell_type": "code",
   "execution_count": 16,
   "metadata": {
    "scrolled": true
   },
   "outputs": [
    {
     "name": "stdout",
     "output_type": "stream",
     "text": [
      "20 1000\n",
      "2.130958318710327\n",
      "4813\n",
      "41453 119332\n",
      "add: 3547 / 7224 / 0.49093425605536334\n",
      "cont: 9580 / 21944 / 0.43654591023012074\n"
     ]
    }
   ],
   "source": [
    "path='Benchmarks/'\n",
    "file_name=\"test20_1000.qasm\"\n",
    "cir = QuantumCircuit.from_qasm_file(path+file_name)\n",
    "tn,all_indexs = cir_2_tn(cir)\n",
    "\n",
    "Ini_TDD(index_order=all_indexs)\n",
    "# set_root_of_unit(2**30)\n",
    "n=get_real_qubit_num(cir)\n",
    "print(n,len(tn.tensors))\n",
    "add_inputs(tn,[0]*n,n)\n",
    "t_start=time.time()\n",
    "tdd=tn.cont()\n",
    "# cProfile.run('tdd=tn.cont()',sort=\"cumulative\")\n",
    "print(time.time()-t_start)\n",
    "# print(tdd.weight)\n",
    "# print(tdd.node_number())\n",
    "print(get_unique_table_num())\n",
    "get_count()\n",
    "# tdd.show()"
   ]
  },
  {
   "cell_type": "code",
   "execution_count": 15,
   "metadata": {},
   "outputs": [],
   "source": [
    "# 0.17199373245239258 26 196 1892\n",
    "# 0.17502999305725098 26 518 5076\n",
    "# 0.42098450660705566 26 1074 10660\n",
    "# 0.7130036354064941  26 2022 20530"
   ]
  }
 ],
 "metadata": {
  "kernelspec": {
   "display_name": "Python 3",
   "language": "python",
   "name": "python3"
  },
  "language_info": {
   "codemirror_mode": {
    "name": "ipython",
    "version": 3
   },
   "file_extension": ".py",
   "mimetype": "text/x-python",
   "name": "python",
   "nbconvert_exporter": "python",
   "pygments_lexer": "ipython3",
   "version": "3.7.6"
  }
 },
 "nbformat": 4,
 "nbformat_minor": 4
}
