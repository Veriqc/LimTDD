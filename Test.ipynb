{
 "cells": [
  {
   "cell_type": "code",
   "execution_count": 16,
   "metadata": {},
   "outputs": [],
   "source": [
    "import numpy as np\n",
    "from TDD.TDD import Ini_TDD,Clear_TDD,set_index_order,get_unique_table_num\n",
    "from TDD.TDD_Q import cir_2_tn,get_real_qubit_num,add_trace_line,add_inputs,add_outputs\n",
    "from TDD.TN import Index,Tensor,TensorNetwork\n",
    "import time\n",
    "import random\n",
    "from qiskit import QuantumCircuit"
   ]
  },
  {
   "cell_type": "code",
   "execution_count": 17,
   "metadata": {},
   "outputs": [
    {
     "data": {
      "image/png": "[encoded data removed]",
      "text/plain": [
       "<IPython.core.display.Image object>"
      ]
     },
     "execution_count": 17,
     "metadata": {},
     "output_type": "execute_result"
    }
   ],
   "source": [
    "Ini_TDD(['x0','y0','x1','y1','x2','y2'])\n",
    "U=1/np.sqrt(2)*np.array([[1,1],[1,-1]])\n",
    "var=[Index('x0'),Index('y0')]\n",
    "ts1=Tensor(U,var)\n",
    "\n",
    "tdd1=ts1.tdd()\n",
    "tdd1.show(False)\n",
    "\n",
    "# print(tdd1.to_array())\n",
    "# var2=[Index('x1'),Index('y1')]\n",
    "# ts2=Tensor(U,var2)\n",
    "# var3=[Index('x2'),Index('y2')]\n",
    "# ts3=Tensor(U,var3)\n",
    "\n",
    "# tn=TensorNetwork([ts1,ts2,ts3])\n",
    "# tdd=tn.cont()\n",
    "# # print(tdd.to_array())\n",
    "# tdd.show()"
   ]
  },
  {
   "cell_type": "code",
   "execution_count": 18,
   "metadata": {},
   "outputs": [],
   "source": [
    "Clear_TDD()"
   ]
  },
  {
   "cell_type": "code",
   "execution_count": 19,
   "metadata": {},
   "outputs": [],
   "source": [
    "path='Benchmarks/'\n",
    "# path='Benchmarks/'\n",
    "# file_name=\"3_17_13.qasm\"\n",
    "file_name=\"qft_10.qasm\"\n",
    "\n",
    "# path='Benchmarks/Random Circuits/10x10_cz/'\n",
    "# file_name=\"inst_10x10_10_0.qasm\"\n",
    "\n",
    "# path='Benchmarks/Random Circuits/12x12_cz/'\n",
    "# file_name=\"inst_12x12_10_0.qasm\"\n",
    "cir = QuantumCircuit.from_qasm_file(path+file_name)\n",
    "\n",
    "# print(cir.data)\n",
    "\n",
    "tn,all_indexs = cir_2_tn(cir)\n",
    "\n",
    "n = get_real_qubit_num(cir)\n",
    "# print(n)\n",
    "input_s=[]\n",
    "output_s=[]\n",
    "# input_s=[0]*n\n",
    "# input_s[-1]=1\n",
    "# input_s=[random.randint(0,1) for k in range(n)]\n",
    "# output_s=[0]*n\n",
    "# output_s=[random.randint(0,1) for k in range(n)]\n",
    "if input_s:\n",
    "    add_inputs(tn,input_s,n)\n",
    "if output_s:\n",
    "    add_outputs(tn,output_s,n)\n",
    "# add_trace_line(tn,n)"
   ]
  },
  {
   "cell_type": "code",
   "execution_count": 20,
   "metadata": {
    "scrolled": false
   },
   "outputs": [
    {
     "name": "stdout",
     "output_type": "stream",
     "text": [
      "0.9000563621520996\n",
      "(0.031249999999999976+0j)\n",
      "2047\n"
     ]
    }
   ],
   "source": [
    "Ini_TDD(index_order=all_indexs)\n",
    "t_start=time.time()\n",
    "tdd=tn.cont()\n",
    "print(time.time()-t_start)\n",
    "print(tdd.weight)\n",
    "print(tdd.node_number())\n",
    "# print(get_unique_table_num())\n",
    "# tdd.show()"
   ]
  },
  {
   "cell_type": "code",
   "execution_count": null,
   "metadata": {},
   "outputs": [],
   "source": []
  }
 ],
 "metadata": {
  "kernelspec": {
   "display_name": "Python 3",
   "language": "python",
   "name": "python3"
  },
  "language_info": {
   "codemirror_mode": {
    "name": "ipython",
    "version": 3
   },
   "file_extension": ".py",
   "mimetype": "text/x-python",
   "name": "python",
   "nbconvert_exporter": "python",
   "pygments_lexer": "ipython3",
   "version": "3.7.6"
  }
 },
 "nbformat": 4,
 "nbformat_minor": 4
}
