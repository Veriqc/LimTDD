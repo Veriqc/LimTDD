{
 "cells": [
  {
   "cell_type": "code",
   "execution_count": null,
   "metadata": {},
   "outputs": [
    {
     "name": "stderr",
     "output_type": "stream",
     "text": [
      "C:\\ProgramData\\Anaconda3\\lib\\site-packages\\qiskit\\__init__.py:64: RuntimeWarning: Could not import the Aer provider from the qiskit-aer package. Install qiskit-aer or check your installation.\n",
      "  RuntimeWarning)\n"
     ]
    }
   ],
   "source": [
    "import numpy as np\n",
    "from TDD.TDD import Ini_TDD,Clear_TDD,set_index_order,get_unique_table_num,set_root_of_unit\n",
    "from TDD.TDD_Q import cir_2_tn,get_real_qubit_num,add_trace_line,add_inputs,add_outputs,gen_cir\n",
    "from TDD.TN import Index,Tensor,TensorNetwork\n",
    "import time\n",
    "import random\n",
    "from qiskit import QuantumCircuit"
   ]
  },
  {
   "cell_type": "code",
   "execution_count": null,
   "metadata": {},
   "outputs": [],
   "source": [
    "Ini_TDD(['x0','y0','x1','y1','x2','y2'])\n",
    "H=1/np.sqrt(2)*np.array([[1,1],[1,-1]])\n",
    "I=np.array([[1,0],[0,1]])\n",
    "T=np.array([[1,0],[0,np.exp(1j*np.pi/4)]])\n",
    "var=[Index('x0'),Index('y0')]\n",
    "ts1=Tensor(H,var)\n",
    "var2=[Index('x1'),Index('y1')]\n",
    "ts2=Tensor(H,var2)\n",
    "tn=TensorNetwork([ts1,ts2])\n",
    "tdd=tn.cont()\n",
    "tdd.show()"
   ]
  },
  {
   "cell_type": "code",
   "execution_count": null,
   "metadata": {},
   "outputs": [],
   "source": [
    "path='Benchmarks/'\n",
    "file_name=\"qft_3.qasm\"\n",
    "cir = QuantumCircuit.from_qasm_file(path+file_name)\n",
    "tn,all_indexs = cir_2_tn(cir)\n",
    "\n",
    "Ini_TDD(index_order=all_indexs)\n",
    "set_root_of_unit(2**3)\n",
    "t_start=time.time()\n",
    "tdd=tn.cont()\n",
    "print(time.time()-t_start)\n",
    "print(tdd.weight)\n",
    "print(tdd.node_number())\n",
    "tdd.show()"
   ]
  },
  {
   "cell_type": "code",
   "execution_count": null,
   "metadata": {},
   "outputs": [],
   "source": [
    "n=2\n",
    "m=3\n",
    "cir=gen_cir('Random_Clifford',n,m)\n",
    "tn,all_indexs = cir_2_tn(cir)\n",
    "add_inputs(tn,[0]*n,n)\n",
    "Ini_TDD(index_order=all_indexs)\n",
    "t_start=time.time()\n",
    "tdd=tn.cont()\n",
    "print(time.time()-t_start)\n",
    "print(tdd.weight)\n",
    "print(tdd.node_number())\n",
    "tdd.show(False)"
   ]
  },
  {
   "cell_type": "code",
   "execution_count": null,
   "metadata": {
    "scrolled": false
   },
   "outputs": [],
   "source": []
  },
  {
   "cell_type": "code",
   "execution_count": null,
   "metadata": {},
   "outputs": [],
   "source": []
  }
 ],
 "metadata": {
  "kernelspec": {
   "display_name": "Python 3",
   "language": "python",
   "name": "python3"
  },
  "language_info": {
   "codemirror_mode": {
    "name": "ipython",
    "version": 3
   },
   "file_extension": ".py",
   "mimetype": "text/x-python",
   "name": "python",
   "nbconvert_exporter": "python",
   "pygments_lexer": "ipython3",
   "version": "3.7.6"
  }
 },
 "nbformat": 4,
 "nbformat_minor": 4
}
