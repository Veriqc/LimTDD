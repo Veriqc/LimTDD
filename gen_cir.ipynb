{
 "cells": [
  {
   "cell_type": "code",
   "execution_count": 3,
   "metadata": {},
   "outputs": [],
   "source": [
    "from qiskit import QuantumCircuit\n",
    "import random\n",
    "\n",
    "def gen_cir(name=None, qubit_num=1, gate_num=1):\n",
    "    # Create a new Quantum Circuit\n",
    "    cir = QuantumCircuit(qubit_num)\n",
    "\n",
    "    # Define gate sets based on the specified circuit name\n",
    "    gate_sets = {\n",
    "        'Random_Clifford_S': ['x', 'y', 'z', 'h', 's', 'cs'],\n",
    "        'Random_Clifford': ['x', 'y', 'z', 'h', 's', 'cx'],\n",
    "        'Random_Clifford_T': ['x', 'y', 'z', 'h', 's', 'cx', 't'],\n",
    "    }\n",
    "    gate_set = gate_sets.get(name, [])\n",
    "\n",
    "    for _ in range(gate_num):\n",
    "        # Select a random gate from the set\n",
    "        gate = random.choice(gate_set)\n",
    "        # Select a random qubit for the gate\n",
    "        qubits = [random.randint(0, qubit_num - 1)]\n",
    "\n",
    "        if gate == 'cx' or gate == 'cs':\n",
    "            # For two-qubit gates, choose a second distinct qubit\n",
    "            q2 = qubits[0]\n",
    "            while q2 == qubits[0]:\n",
    "                q2 = random.randint(0, qubit_num - 1)\n",
    "            qubits.append(q2)\n",
    "\n",
    "        # Dynamically call the gate method on the circuit\n",
    "        getattr(cir, gate)(*qubits)\n",
    "\n",
    "    return cir"
   ]
  },
  {
   "cell_type": "code",
   "execution_count": 4,
   "metadata": {},
   "outputs": [
    {
     "name": "stderr",
     "output_type": "stream",
     "text": [
      "Executing program: 100%|██████████| 1000/1000 [00:04<00:00, 222.07it/s]\n"
     ]
    }
   ],
   "source": [
    "qubit_num = 10\n",
    "gate_num = 400\n",
    "time = 1000\n",
    "subdir = \"Benchmarks/clifford_t\"\n",
    "\n",
    "import os\n",
    "from tqdm import tqdm\n",
    "if not os.path.exists(subdir):\n",
    "    os.makedirs(subdir)\n",
    "for i in tqdm(range(time), desc='Executing program'):\n",
    "    with open(f\"{subdir}/{i+1}time.qasm\",'w') as file:\n",
    "        file.write(gen_cir(\"Random_Clifford_T\",qubit_num,gate_num).qasm())"
   ]
  }
 ],
 "metadata": {
  "kernelspec": {
   "display_name": "Python 3",
   "language": "python",
   "name": "python3"
  },
  "language_info": {
   "codemirror_mode": {
    "name": "ipython",
    "version": 3
   },
   "file_extension": ".py",
   "mimetype": "text/x-python",
   "name": "python",
   "nbconvert_exporter": "python",
   "pygments_lexer": "ipython3",
   "version": "3.10.12"
  }
 },
 "nbformat": 4,
 "nbformat_minor": 2
}
